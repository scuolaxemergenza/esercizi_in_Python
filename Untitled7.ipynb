{
  "nbformat": 4,
  "nbformat_minor": 0,
  "metadata": {
    "colab": {
      "name": "Untitled7.ipynb",
      "provenance": [],
      "collapsed_sections": []
    },
    "kernelspec": {
      "name": "python3",
      "display_name": "Python 3"
    },
    "language_info": {
      "name": "python"
    },
    "widgets": {
      "application/vnd.jupyter.widget-state+json": {
        "3b1e29a4fc69451494f4a038f13c3c56": {
          "model_module": "@jupyter-widgets/controls",
          "model_name": "VBoxModel",
          "model_module_version": "1.5.0",
          "state": {
            "_dom_classes": [
              "widget-interact"
            ],
            "_model_module": "@jupyter-widgets/controls",
            "_model_module_version": "1.5.0",
            "_model_name": "VBoxModel",
            "_view_count": null,
            "_view_module": "@jupyter-widgets/controls",
            "_view_module_version": "1.5.0",
            "_view_name": "VBoxView",
            "box_style": "",
            "children": [
              "IPY_MODEL_4fdd125f3048498481b3ddb9d423da79",
              "IPY_MODEL_e99c0b8759f74391a694cbc0559abb61",
              "IPY_MODEL_1b1eddb0564e427b96ce8e6aed0dd359",
              "IPY_MODEL_6bde21d8b21d44e4aa9893ffa0eb0d26",
              "IPY_MODEL_99196a992701406b907997e0f45fbdbe"
            ],
            "layout": "IPY_MODEL_8747bb02a75d494ab43c6e62bc8dec11"
          }
        },
        "4fdd125f3048498481b3ddb9d423da79": {
          "model_module": "@jupyter-widgets/controls",
          "model_name": "PlayModel",
          "model_module_version": "1.5.0",
          "state": {
            "_dom_classes": [],
            "_model_module": "@jupyter-widgets/controls",
            "_model_module_version": "1.5.0",
            "_model_name": "PlayModel",
            "_playing": false,
            "_repeat": false,
            "_view_count": null,
            "_view_module": "@jupyter-widgets/controls",
            "_view_module_version": "1.5.0",
            "_view_name": "PlayView",
            "description": "t",
            "description_tooltip": null,
            "disabled": false,
            "interval": 500,
            "layout": "IPY_MODEL_4487e4bbf71044d1a13e9a7275039cec",
            "max": 60,
            "min": 0,
            "show_repeat": true,
            "step": 1,
            "style": "IPY_MODEL_5cdf93fe4d994a7c8a16d602568e3970",
            "value": 27
          }
        },
        "e99c0b8759f74391a694cbc0559abb61": {
          "model_module": "@jupyter-widgets/controls",
          "model_name": "FloatSliderModel",
          "model_module_version": "1.5.0",
          "state": {
            "_dom_classes": [],
            "_model_module": "@jupyter-widgets/controls",
            "_model_module_version": "1.5.0",
            "_model_name": "FloatSliderModel",
            "_view_count": null,
            "_view_module": "@jupyter-widgets/controls",
            "_view_module_version": "1.5.0",
            "_view_name": "FloatSliderView",
            "continuous_update": true,
            "description": "m",
            "description_tooltip": null,
            "disabled": false,
            "layout": "IPY_MODEL_5ff971bf3ffc4a089714dc31a2e17a0b",
            "max": 5,
            "min": 1,
            "orientation": "horizontal",
            "readout": true,
            "readout_format": ".2f",
            "step": 0.01,
            "style": "IPY_MODEL_c89167c010024d349f5e15eac494db38",
            "value": 1
          }
        },
        "1b1eddb0564e427b96ce8e6aed0dd359": {
          "model_module": "@jupyter-widgets/controls",
          "model_name": "FloatSliderModel",
          "model_module_version": "1.5.0",
          "state": {
            "_dom_classes": [],
            "_model_module": "@jupyter-widgets/controls",
            "_model_module_version": "1.5.0",
            "_model_name": "FloatSliderModel",
            "_view_count": null,
            "_view_module": "@jupyter-widgets/controls",
            "_view_module_version": "1.5.0",
            "_view_name": "FloatSliderView",
            "continuous_update": true,
            "description": "k",
            "description_tooltip": null,
            "disabled": false,
            "layout": "IPY_MODEL_e341382e400747c88d3443dc06f9047b",
            "max": 5,
            "min": 1,
            "orientation": "horizontal",
            "readout": true,
            "readout_format": ".2f",
            "step": 0.01,
            "style": "IPY_MODEL_05eb977bea9b4966be1da8c84c1e9225",
            "value": 1
          }
        },
        "6bde21d8b21d44e4aa9893ffa0eb0d26": {
          "model_module": "@jupyter-widgets/controls",
          "model_name": "FloatSliderModel",
          "model_module_version": "1.5.0",
          "state": {
            "_dom_classes": [],
            "_model_module": "@jupyter-widgets/controls",
            "_model_module_version": "1.5.0",
            "_model_name": "FloatSliderModel",
            "_view_count": null,
            "_view_module": "@jupyter-widgets/controls",
            "_view_module_version": "1.5.0",
            "_view_name": "FloatSliderView",
            "continuous_update": true,
            "description": "beta",
            "description_tooltip": null,
            "disabled": false,
            "layout": "IPY_MODEL_759dc05911e843c6923a9fd7d57bf7cc",
            "max": 5,
            "min": 0,
            "orientation": "horizontal",
            "readout": true,
            "readout_format": ".2f",
            "step": 0.01,
            "style": "IPY_MODEL_c0e1dc5271174d89aec23355bceb6d98",
            "value": 0
          }
        },
        "99196a992701406b907997e0f45fbdbe": {
          "model_module": "@jupyter-widgets/output",
          "model_name": "OutputModel",
          "model_module_version": "1.0.0",
          "state": {
            "_dom_classes": [],
            "_model_module": "@jupyter-widgets/output",
            "_model_module_version": "1.0.0",
            "_model_name": "OutputModel",
            "_view_count": null,
            "_view_module": "@jupyter-widgets/output",
            "_view_module_version": "1.0.0",
            "_view_name": "OutputView",
            "layout": "IPY_MODEL_9983ba63fc9247e58a53c5a54c6e2e20",
            "msg_id": "",
            "outputs": [
              {
                "output_type": "display_data",
                "data": {
                  "text/plain": "<Figure size 432x288 with 1 Axes>",
                  "image/png": "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\n"
                },
                "metadata": {
                  "needs_background": "light"
                }
              }
            ]
          }
        },
        "8747bb02a75d494ab43c6e62bc8dec11": {
          "model_module": "@jupyter-widgets/base",
          "model_name": "LayoutModel",
          "model_module_version": "1.2.0",
          "state": {
            "_model_module": "@jupyter-widgets/base",
            "_model_module_version": "1.2.0",
            "_model_name": "LayoutModel",
            "_view_count": null,
            "_view_module": "@jupyter-widgets/base",
            "_view_module_version": "1.2.0",
            "_view_name": "LayoutView",
            "align_content": null,
            "align_items": null,
            "align_self": null,
            "border": null,
            "bottom": null,
            "display": null,
            "flex": null,
            "flex_flow": null,
            "grid_area": null,
            "grid_auto_columns": null,
            "grid_auto_flow": null,
            "grid_auto_rows": null,
            "grid_column": null,
            "grid_gap": null,
            "grid_row": null,
            "grid_template_areas": null,
            "grid_template_columns": null,
            "grid_template_rows": null,
            "height": null,
            "justify_content": null,
            "justify_items": null,
            "left": null,
            "margin": null,
            "max_height": null,
            "max_width": null,
            "min_height": null,
            "min_width": null,
            "object_fit": null,
            "object_position": null,
            "order": null,
            "overflow": null,
            "overflow_x": null,
            "overflow_y": null,
            "padding": null,
            "right": null,
            "top": null,
            "visibility": null,
            "width": null
          }
        },
        "4487e4bbf71044d1a13e9a7275039cec": {
          "model_module": "@jupyter-widgets/base",
          "model_name": "LayoutModel",
          "model_module_version": "1.2.0",
          "state": {
            "_model_module": "@jupyter-widgets/base",
            "_model_module_version": "1.2.0",
            "_model_name": "LayoutModel",
            "_view_count": null,
            "_view_module": "@jupyter-widgets/base",
            "_view_module_version": "1.2.0",
            "_view_name": "LayoutView",
            "align_content": null,
            "align_items": null,
            "align_self": null,
            "border": null,
            "bottom": null,
            "display": null,
            "flex": null,
            "flex_flow": null,
            "grid_area": null,
            "grid_auto_columns": null,
            "grid_auto_flow": null,
            "grid_auto_rows": null,
            "grid_column": null,
            "grid_gap": null,
            "grid_row": null,
            "grid_template_areas": null,
            "grid_template_columns": null,
            "grid_template_rows": null,
            "height": null,
            "justify_content": null,
            "justify_items": null,
            "left": null,
            "margin": null,
            "max_height": null,
            "max_width": null,
            "min_height": null,
            "min_width": null,
            "object_fit": null,
            "object_position": null,
            "order": null,
            "overflow": null,
            "overflow_x": null,
            "overflow_y": null,
            "padding": null,
            "right": null,
            "top": null,
            "visibility": null,
            "width": null
          }
        },
        "5cdf93fe4d994a7c8a16d602568e3970": {
          "model_module": "@jupyter-widgets/controls",
          "model_name": "DescriptionStyleModel",
          "model_module_version": "1.5.0",
          "state": {
            "_model_module": "@jupyter-widgets/controls",
            "_model_module_version": "1.5.0",
            "_model_name": "DescriptionStyleModel",
            "_view_count": null,
            "_view_module": "@jupyter-widgets/base",
            "_view_module_version": "1.2.0",
            "_view_name": "StyleView",
            "description_width": ""
          }
        },
        "5ff971bf3ffc4a089714dc31a2e17a0b": {
          "model_module": "@jupyter-widgets/base",
          "model_name": "LayoutModel",
          "model_module_version": "1.2.0",
          "state": {
            "_model_module": "@jupyter-widgets/base",
            "_model_module_version": "1.2.0",
            "_model_name": "LayoutModel",
            "_view_count": null,
            "_view_module": "@jupyter-widgets/base",
            "_view_module_version": "1.2.0",
            "_view_name": "LayoutView",
            "align_content": null,
            "align_items": null,
            "align_self": null,
            "border": null,
            "bottom": null,
            "display": null,
            "flex": null,
            "flex_flow": null,
            "grid_area": null,
            "grid_auto_columns": null,
            "grid_auto_flow": null,
            "grid_auto_rows": null,
            "grid_column": null,
            "grid_gap": null,
            "grid_row": null,
            "grid_template_areas": null,
            "grid_template_columns": null,
            "grid_template_rows": null,
            "height": null,
            "justify_content": null,
            "justify_items": null,
            "left": null,
            "margin": null,
            "max_height": null,
            "max_width": null,
            "min_height": null,
            "min_width": null,
            "object_fit": null,
            "object_position": null,
            "order": null,
            "overflow": null,
            "overflow_x": null,
            "overflow_y": null,
            "padding": null,
            "right": null,
            "top": null,
            "visibility": null,
            "width": null
          }
        },
        "c89167c010024d349f5e15eac494db38": {
          "model_module": "@jupyter-widgets/controls",
          "model_name": "SliderStyleModel",
          "model_module_version": "1.5.0",
          "state": {
            "_model_module": "@jupyter-widgets/controls",
            "_model_module_version": "1.5.0",
            "_model_name": "SliderStyleModel",
            "_view_count": null,
            "_view_module": "@jupyter-widgets/base",
            "_view_module_version": "1.2.0",
            "_view_name": "StyleView",
            "description_width": "",
            "handle_color": null
          }
        },
        "e341382e400747c88d3443dc06f9047b": {
          "model_module": "@jupyter-widgets/base",
          "model_name": "LayoutModel",
          "model_module_version": "1.2.0",
          "state": {
            "_model_module": "@jupyter-widgets/base",
            "_model_module_version": "1.2.0",
            "_model_name": "LayoutModel",
            "_view_count": null,
            "_view_module": "@jupyter-widgets/base",
            "_view_module_version": "1.2.0",
            "_view_name": "LayoutView",
            "align_content": null,
            "align_items": null,
            "align_self": null,
            "border": null,
            "bottom": null,
            "display": null,
            "flex": null,
            "flex_flow": null,
            "grid_area": null,
            "grid_auto_columns": null,
            "grid_auto_flow": null,
            "grid_auto_rows": null,
            "grid_column": null,
            "grid_gap": null,
            "grid_row": null,
            "grid_template_areas": null,
            "grid_template_columns": null,
            "grid_template_rows": null,
            "height": null,
            "justify_content": null,
            "justify_items": null,
            "left": null,
            "margin": null,
            "max_height": null,
            "max_width": null,
            "min_height": null,
            "min_width": null,
            "object_fit": null,
            "object_position": null,
            "order": null,
            "overflow": null,
            "overflow_x": null,
            "overflow_y": null,
            "padding": null,
            "right": null,
            "top": null,
            "visibility": null,
            "width": null
          }
        },
        "05eb977bea9b4966be1da8c84c1e9225": {
          "model_module": "@jupyter-widgets/controls",
          "model_name": "SliderStyleModel",
          "model_module_version": "1.5.0",
          "state": {
            "_model_module": "@jupyter-widgets/controls",
            "_model_module_version": "1.5.0",
            "_model_name": "SliderStyleModel",
            "_view_count": null,
            "_view_module": "@jupyter-widgets/base",
            "_view_module_version": "1.2.0",
            "_view_name": "StyleView",
            "description_width": "",
            "handle_color": null
          }
        },
        "759dc05911e843c6923a9fd7d57bf7cc": {
          "model_module": "@jupyter-widgets/base",
          "model_name": "LayoutModel",
          "model_module_version": "1.2.0",
          "state": {
            "_model_module": "@jupyter-widgets/base",
            "_model_module_version": "1.2.0",
            "_model_name": "LayoutModel",
            "_view_count": null,
            "_view_module": "@jupyter-widgets/base",
            "_view_module_version": "1.2.0",
            "_view_name": "LayoutView",
            "align_content": null,
            "align_items": null,
            "align_self": null,
            "border": null,
            "bottom": null,
            "display": null,
            "flex": null,
            "flex_flow": null,
            "grid_area": null,
            "grid_auto_columns": null,
            "grid_auto_flow": null,
            "grid_auto_rows": null,
            "grid_column": null,
            "grid_gap": null,
            "grid_row": null,
            "grid_template_areas": null,
            "grid_template_columns": null,
            "grid_template_rows": null,
            "height": null,
            "justify_content": null,
            "justify_items": null,
            "left": null,
            "margin": null,
            "max_height": null,
            "max_width": null,
            "min_height": null,
            "min_width": null,
            "object_fit": null,
            "object_position": null,
            "order": null,
            "overflow": null,
            "overflow_x": null,
            "overflow_y": null,
            "padding": null,
            "right": null,
            "top": null,
            "visibility": null,
            "width": null
          }
        },
        "c0e1dc5271174d89aec23355bceb6d98": {
          "model_module": "@jupyter-widgets/controls",
          "model_name": "SliderStyleModel",
          "model_module_version": "1.5.0",
          "state": {
            "_model_module": "@jupyter-widgets/controls",
            "_model_module_version": "1.5.0",
            "_model_name": "SliderStyleModel",
            "_view_count": null,
            "_view_module": "@jupyter-widgets/base",
            "_view_module_version": "1.2.0",
            "_view_name": "StyleView",
            "description_width": "",
            "handle_color": null
          }
        },
        "9983ba63fc9247e58a53c5a54c6e2e20": {
          "model_module": "@jupyter-widgets/base",
          "model_name": "LayoutModel",
          "model_module_version": "1.2.0",
          "state": {
            "_model_module": "@jupyter-widgets/base",
            "_model_module_version": "1.2.0",
            "_model_name": "LayoutModel",
            "_view_count": null,
            "_view_module": "@jupyter-widgets/base",
            "_view_module_version": "1.2.0",
            "_view_name": "LayoutView",
            "align_content": null,
            "align_items": null,
            "align_self": null,
            "border": null,
            "bottom": null,
            "display": null,
            "flex": null,
            "flex_flow": null,
            "grid_area": null,
            "grid_auto_columns": null,
            "grid_auto_flow": null,
            "grid_auto_rows": null,
            "grid_column": null,
            "grid_gap": null,
            "grid_row": null,
            "grid_template_areas": null,
            "grid_template_columns": null,
            "grid_template_rows": null,
            "height": null,
            "justify_content": null,
            "justify_items": null,
            "left": null,
            "margin": null,
            "max_height": null,
            "max_width": null,
            "min_height": null,
            "min_width": null,
            "object_fit": null,
            "object_position": null,
            "order": null,
            "overflow": null,
            "overflow_x": null,
            "overflow_y": null,
            "padding": null,
            "right": null,
            "top": null,
            "visibility": null,
            "width": null
          }
        }
      }
    }
  },
  "cells": [
    {
      "cell_type": "code",
      "execution_count": 1,
      "metadata": {
        "colab": {
          "base_uri": "https://localhost:8080/",
          "height": 501,
          "referenced_widgets": [
            "3b1e29a4fc69451494f4a038f13c3c56",
            "4fdd125f3048498481b3ddb9d423da79",
            "e99c0b8759f74391a694cbc0559abb61",
            "1b1eddb0564e427b96ce8e6aed0dd359",
            "6bde21d8b21d44e4aa9893ffa0eb0d26",
            "99196a992701406b907997e0f45fbdbe",
            "8747bb02a75d494ab43c6e62bc8dec11",
            "4487e4bbf71044d1a13e9a7275039cec",
            "5cdf93fe4d994a7c8a16d602568e3970",
            "5ff971bf3ffc4a089714dc31a2e17a0b",
            "c89167c010024d349f5e15eac494db38",
            "e341382e400747c88d3443dc06f9047b",
            "05eb977bea9b4966be1da8c84c1e9225",
            "759dc05911e843c6923a9fd7d57bf7cc",
            "c0e1dc5271174d89aec23355bceb6d98",
            "9983ba63fc9247e58a53c5a54c6e2e20"
          ]
        },
        "id": "cWSF4TBWipdN",
        "outputId": "ce4d076f-d1d0-4938-c616-5a2029ddd16f"
      },
      "outputs": [
        {
          "output_type": "display_data",
          "data": {
            "text/plain": [
              "<IPython.core.display.HTML object>"
            ],
            "text/html": [
              "<link rel=\"stylesheet\" href=\"//stackpath.bootstrapcdn.com/font-awesome/4.7.0/css/font-awesome.min.css\"/>"
            ]
          },
          "metadata": {}
        },
        {
          "output_type": "display_data",
          "data": {
            "text/plain": [
              "'General Solution (damped system):'"
            ],
            "application/vnd.google.colaboratory.intrinsic+json": {
              "type": "string"
            }
          },
          "metadata": {}
        },
        {
          "output_type": "display_data",
          "data": {
            "text/plain": [
              "             ⎛        ____________⎞         ⎛        ____________⎞\n",
              "             ⎜       ╱  2         ⎟         ⎜       ╱  2         ⎟\n",
              "           t⋅⎝-β - ╲╱  β  - 4⋅k⋅m ⎠       t⋅⎝-β + ╲╱  β  - 4⋅k⋅m ⎠\n",
              "           ────────────────────────       ────────────────────────\n",
              "                     2⋅m                            2⋅m           \n",
              "x(t) = C₁⋅ℯ                         + C₂⋅ℯ                        "
            ],
            "image/png": "[encoded data removed]",
            "text/latex": "$\\displaystyle x{\\left(t \\right)} = C_{1} e^{\\frac{t \\left(- \\beta - \\sqrt{\\beta^{2} - 4 k m}\\right)}{2 m}} + C_{2} e^{\\frac{t \\left(- \\beta + \\sqrt{\\beta^{2} - 4 k m}\\right)}{2 m}}$"
          },
          "metadata": {}
        },
        {
          "output_type": "display_data",
          "data": {
            "text/plain": [
              "'Solution with initial velocity and displacement = 0:'"
            ],
            "application/vnd.google.colaboratory.intrinsic+json": {
              "type": "string"
            }
          },
          "metadata": {}
        },
        {
          "output_type": "display_data",
          "data": {
            "text/plain": [
              "x(t) = 0"
            ],
            "image/png": "[encoded data removed]",
            "text/latex": "$\\displaystyle x{\\left(t \\right)} = 0$"
          },
          "metadata": {}
        },
        {
          "output_type": "display_data",
          "data": {
            "text/plain": [
              "interactive(children=(Play(value=0, description='t', interval=500, max=60), FloatSlider(value=1.0, description…"
            ],
            "application/vnd.jupyter.widget-view+json": {
              "version_major": 2,
              "version_minor": 0,
              "model_id": "3b1e29a4fc69451494f4a038f13c3c56"
            }
          },
          "metadata": {}
        }
      ],
      "source": [
        "# UPGRADE: need Sympy 1.2 or later, upgrade by running: \"!pip install sympy --upgrade\" in a code cell\n",
        "# !pip install sympy --upgrade\n",
        "import cmath\n",
        "import numpy as np\n",
        "import sympy as sp\n",
        "import matplotlib.pyplot as plt\n",
        "from IPython.display import HTML\n",
        "from ipywidgets.widgets import interact, Play\n",
        "sp.init_printing(use_latex=True)\n",
        "display(HTML('<link rel=\"stylesheet\" href=\"//stackpath.bootstrapcdn.com/font-awesome/4.7.0/css/font-awesome.min.css\"/>'))\n",
        "\n",
        "x = sp.Function('x')\n",
        "m, k, t, beta = sp.symbols('m k t beta')\n",
        "# General Solution\n",
        "sol = sp.dsolve(m*x(t).diff(t,2) + k*x(t) + beta*x(t).diff(t))\n",
        "display(\"General Solution (damped system):\", sol)\n",
        "\n",
        "# Solution\n",
        "sol = sp.dsolve(m*x(t).diff(t,2) + k*x(t) + beta*x(t).diff(t), ics={x(0): 0, x(t).diff(t).subs(t, 0): 0})\n",
        "display(\"Solution with initial velocity and displacement = 0:\", sp.simplify(sol))\n",
        "\n",
        "@interact(t=Play(value=0, min=0, max=60, step=1, interval=500),\n",
        "          m=(1,5,0.01), k=(1,5,0.01), beta=(0,5,0.01))\n",
        "def update(t, m=1, k=1, beta=0):\n",
        "  g = 1\n",
        "  s = cmath.sqrt(beta**2 - 4*k*m)\n",
        "  x = -((np.exp(-(((beta + s)*t)/(2*m)))*m*(beta*(-1 + np.exp((s*t)/m)) + (1 + np.exp((s*t)/m)-2*np.exp(((beta + s)*t)/(2*m)))*s))/(2*k*s))\n",
        "  plt.xlim(0,10); plt.ylim(-0.1,0.1)\n",
        "  plt.yticks([])\n",
        "  plt.title('x = '+str(np.round(x,3)))\n",
        "  plt.plot([0,x],[0,0],lw=50)"
      ]
    }
  ]
}